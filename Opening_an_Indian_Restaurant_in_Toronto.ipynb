{
  "nbformat": 4,
  "nbformat_minor": 0,
  "metadata": {
    "colab": {
      "name": "Opening an Indian Restaurant in Toronto.ipynb",
      "provenance": [],
      "collapsed_sections": [],
      "authorship_tag": "ABX9TyOSF1yPKxsOBL05nURODsBO",
      "include_colab_link": true
    },
    "kernelspec": {
      "name": "python3",
      "display_name": "Python 3"
    }
  },
  "cells": [
    {
      "cell_type": "markdown",
      "metadata": {
        "id": "view-in-github",
        "colab_type": "text"
      },
      "source": [
        "<a href=\"https://colab.research.google.com/github/agprasanna/Coursera_Capstone/blob/master/Opening_an_Indian_Restaurant_in_Toronto.ipynb\" target=\"_parent\"><img src=\"https://colab.research.google.com/assets/colab-badge.svg\" alt=\"Open In Colab\"/></a>"
      ]
    },
    {
      "cell_type": "markdown",
      "metadata": {
        "id": "oW2eHh-uIdPq",
        "colab_type": "text"
      },
      "source": [
        "Install the necesary packages (if not done already)\n"
      ]
    },
    {
      "cell_type": "code",
      "metadata": {
        "id": "g1Zth_GCH9cY",
        "colab_type": "code",
        "colab": {
          "base_uri": "https://localhost:8080/",
          "height": 501
        },
        "outputId": "5105fe43-0d1c-41c9-a7a7-5e5a35e3d882"
      },
      "source": [
        "#!conda install -c conda-forge geopy --yes \n",
        "#!conda install -c conda-forge folium=0.10.0 \n",
        "#!conda install -c conda-forge geopandas\n",
        "#!pip install geopandas"
      ],
      "execution_count": 6,
      "outputs": [
        {
          "output_type": "stream",
          "text": [
            "Collecting geopandas\n",
            "\u001b[?25l  Downloading https://files.pythonhosted.org/packages/f7/a4/e66aafbefcbb717813bf3a355c8c4fc3ed04ea1dd7feb2920f2f4f868921/geopandas-0.8.1-py2.py3-none-any.whl (962kB)\n",
            "\u001b[K     |████████████████████████████████| 972kB 8.4MB/s \n",
            "\u001b[?25hRequirement already satisfied: shapely in /usr/local/lib/python3.6/dist-packages (from geopandas) (1.7.0)\n",
            "Requirement already satisfied: pandas>=0.23.0 in /usr/local/lib/python3.6/dist-packages (from geopandas) (1.0.5)\n",
            "Collecting pyproj>=2.2.0\n",
            "\u001b[?25l  Downloading https://files.pythonhosted.org/packages/e5/c3/071e080230ac4b6c64f1a2e2f9161c9737a2bc7b683d2c90b024825000c0/pyproj-2.6.1.post1-cp36-cp36m-manylinux2010_x86_64.whl (10.9MB)\n",
            "\u001b[K     |████████████████████████████████| 10.9MB 24.7MB/s \n",
            "\u001b[?25hCollecting fiona\n",
            "\u001b[?25l  Downloading https://files.pythonhosted.org/packages/ec/20/4e63bc5c6e62df889297b382c3ccd4a7a488b00946aaaf81a118158c6f09/Fiona-1.8.13.post1-cp36-cp36m-manylinux1_x86_64.whl (14.7MB)\n",
            "\u001b[K     |████████████████████████████████| 14.7MB 319kB/s \n",
            "\u001b[?25hRequirement already satisfied: python-dateutil>=2.6.1 in /usr/local/lib/python3.6/dist-packages (from pandas>=0.23.0->geopandas) (2.8.1)\n",
            "Requirement already satisfied: numpy>=1.13.3 in /usr/local/lib/python3.6/dist-packages (from pandas>=0.23.0->geopandas) (1.18.5)\n",
            "Requirement already satisfied: pytz>=2017.2 in /usr/local/lib/python3.6/dist-packages (from pandas>=0.23.0->geopandas) (2018.9)\n",
            "Requirement already satisfied: click<8,>=4.0 in /usr/local/lib/python3.6/dist-packages (from fiona->geopandas) (7.1.2)\n",
            "Requirement already satisfied: six>=1.7 in /usr/local/lib/python3.6/dist-packages (from fiona->geopandas) (1.15.0)\n",
            "Collecting cligj>=0.5\n",
            "  Downloading https://files.pythonhosted.org/packages/e4/be/30a58b4b0733850280d01f8bd132591b4668ed5c7046761098d665ac2174/cligj-0.5.0-py3-none-any.whl\n",
            "Requirement already satisfied: attrs>=17 in /usr/local/lib/python3.6/dist-packages (from fiona->geopandas) (19.3.0)\n",
            "Collecting munch\n",
            "  Downloading https://files.pythonhosted.org/packages/cc/ab/85d8da5c9a45e072301beb37ad7f833cd344e04c817d97e0cc75681d248f/munch-2.5.0-py2.py3-none-any.whl\n",
            "Collecting click-plugins>=1.0\n",
            "  Downloading https://files.pythonhosted.org/packages/e9/da/824b92d9942f4e472702488857914bdd50f73021efea15b4cad9aca8ecef/click_plugins-1.1.1-py2.py3-none-any.whl\n",
            "Installing collected packages: pyproj, cligj, munch, click-plugins, fiona, geopandas\n",
            "Successfully installed click-plugins-1.1.1 cligj-0.5.0 fiona-1.8.13.post1 geopandas-0.8.1 munch-2.5.0 pyproj-2.6.1.post1\n"
          ],
          "name": "stdout"
        }
      ]
    },
    {
      "cell_type": "markdown",
      "metadata": {
        "id": "V0EIPaTyIrwB",
        "colab_type": "text"
      },
      "source": [
        "Import the necesary libraries here\n"
      ]
    },
    {
      "cell_type": "code",
      "metadata": {
        "id": "J3vPcJ7nIb5d",
        "colab_type": "code",
        "colab": {
          "base_uri": "https://localhost:8080/",
          "height": 36
        },
        "outputId": "52cde40e-c588-4176-c9e8-b7867724d6e3"
      },
      "source": [
        "import pandas as pd\n",
        "#pd.set_option('display.max_columns', None)\n",
        "#pd.set_option('display.max_rows', None)\n",
        "\n",
        "import numpy as np\n",
        "\n",
        "import urllib.request\n",
        "import requests\n",
        "\n",
        "from geopy.geocoders import Nominatim    # import geocoder Nominatim\n",
        "import folium                            # import map rendering \n",
        "\n",
        "import geopandas as gpd             #to read in shape file and provides high #level interface with #matplotlib library for making maps\n",
        "\n",
        "import matplotlib.cm as cm          # Matplotlib and associated plotting modules\n",
        "import matplotlib.colors as colors \n",
        "\n",
        "#import k-means from clustering stage\n",
        "from sklearn.cluster import KMeans\n",
        "\n",
        "print(\"libraries imported!\")"
      ],
      "execution_count": 7,
      "outputs": [
        {
          "output_type": "stream",
          "text": [
            "libraries imported!\n"
          ],
          "name": "stdout"
        }
      ]
    },
    {
      "cell_type": "code",
      "metadata": {
        "id": "fWJ0mqrKI01z",
        "colab_type": "code",
        "colab": {
          "base_uri": "https://localhost:8080/",
          "height": 573
        },
        "outputId": "a2df02a8-9e92-48ac-a7da-8f950e9d3be9"
      },
      "source": [
        "Toronto_geojson_url= \"https://ckan0.cf.opendata.inter.prod-toronto.ca/download_resource/a083c865-6d60-4d1d-b6c6-b0c8a85f9c15?format=geojson&projection=4326\"\n",
        "\n",
        "Toronto_Geojson = gpd.read_file(Trnto_geo_url)\n",
        "Toronto_Geojson.head()"
      ],
      "execution_count": 101,
      "outputs": [
        {
          "output_type": "execute_result",
          "data": {
            "text/html": [
              "<div>\n",
              "<style scoped>\n",
              "    .dataframe tbody tr th:only-of-type {\n",
              "        vertical-align: middle;\n",
              "    }\n",
              "\n",
              "    .dataframe tbody tr th {\n",
              "        vertical-align: top;\n",
              "    }\n",
              "\n",
              "    .dataframe thead th {\n",
              "        text-align: right;\n",
              "    }\n",
              "</style>\n",
              "<table border=\"1\" class=\"dataframe\">\n",
              "  <thead>\n",
              "    <tr style=\"text-align: right;\">\n",
              "      <th></th>\n",
              "      <th>_id</th>\n",
              "      <th>AREA_ID</th>\n",
              "      <th>AREA_ATTR_ID</th>\n",
              "      <th>PARENT_AREA_ID</th>\n",
              "      <th>AREA_SHORT_CODE</th>\n",
              "      <th>AREA_LONG_CODE</th>\n",
              "      <th>AREA_NAME</th>\n",
              "      <th>AREA_DESC</th>\n",
              "      <th>X</th>\n",
              "      <th>Y</th>\n",
              "      <th>LONGITUDE</th>\n",
              "      <th>LATITUDE</th>\n",
              "      <th>OBJECTID</th>\n",
              "      <th>Shape__Area</th>\n",
              "      <th>Shape__Length</th>\n",
              "      <th>geometry</th>\n",
              "    </tr>\n",
              "  </thead>\n",
              "  <tbody>\n",
              "    <tr>\n",
              "      <th>0</th>\n",
              "      <td>6581</td>\n",
              "      <td>25886861</td>\n",
              "      <td>25926662</td>\n",
              "      <td>49885</td>\n",
              "      <td>94</td>\n",
              "      <td>94</td>\n",
              "      <td>Wychwood (94)</td>\n",
              "      <td>Wychwood (94)</td>\n",
              "      <td>None</td>\n",
              "      <td>None</td>\n",
              "      <td>-79.425515</td>\n",
              "      <td>43.676919</td>\n",
              "      <td>16491505</td>\n",
              "      <td>3.217960e+06</td>\n",
              "      <td>7515.779658</td>\n",
              "      <td>POLYGON ((-79.43592 43.68015, -79.43492 43.680...</td>\n",
              "    </tr>\n",
              "    <tr>\n",
              "      <th>1</th>\n",
              "      <td>6582</td>\n",
              "      <td>25886820</td>\n",
              "      <td>25926663</td>\n",
              "      <td>49885</td>\n",
              "      <td>100</td>\n",
              "      <td>100</td>\n",
              "      <td>Yonge-Eglinton (100)</td>\n",
              "      <td>Yonge-Eglinton (100)</td>\n",
              "      <td>None</td>\n",
              "      <td>None</td>\n",
              "      <td>-79.403590</td>\n",
              "      <td>43.704689</td>\n",
              "      <td>16491521</td>\n",
              "      <td>3.160334e+06</td>\n",
              "      <td>7872.021074</td>\n",
              "      <td>POLYGON ((-79.41096 43.70408, -79.40962 43.704...</td>\n",
              "    </tr>\n",
              "    <tr>\n",
              "      <th>2</th>\n",
              "      <td>6583</td>\n",
              "      <td>25886834</td>\n",
              "      <td>25926664</td>\n",
              "      <td>49885</td>\n",
              "      <td>97</td>\n",
              "      <td>97</td>\n",
              "      <td>Yonge-St.Clair (97)</td>\n",
              "      <td>Yonge-St.Clair (97)</td>\n",
              "      <td>None</td>\n",
              "      <td>None</td>\n",
              "      <td>-79.397871</td>\n",
              "      <td>43.687859</td>\n",
              "      <td>16491537</td>\n",
              "      <td>2.222464e+06</td>\n",
              "      <td>8130.411276</td>\n",
              "      <td>POLYGON ((-79.39119 43.68108, -79.39141 43.680...</td>\n",
              "    </tr>\n",
              "    <tr>\n",
              "      <th>3</th>\n",
              "      <td>6584</td>\n",
              "      <td>25886593</td>\n",
              "      <td>25926665</td>\n",
              "      <td>49885</td>\n",
              "      <td>27</td>\n",
              "      <td>27</td>\n",
              "      <td>York University Heights (27)</td>\n",
              "      <td>York University Heights (27)</td>\n",
              "      <td>None</td>\n",
              "      <td>None</td>\n",
              "      <td>-79.488883</td>\n",
              "      <td>43.765736</td>\n",
              "      <td>16491553</td>\n",
              "      <td>2.541821e+07</td>\n",
              "      <td>25632.335242</td>\n",
              "      <td>POLYGON ((-79.50529 43.75987, -79.50488 43.759...</td>\n",
              "    </tr>\n",
              "    <tr>\n",
              "      <th>4</th>\n",
              "      <td>6585</td>\n",
              "      <td>25886688</td>\n",
              "      <td>25926666</td>\n",
              "      <td>49885</td>\n",
              "      <td>31</td>\n",
              "      <td>31</td>\n",
              "      <td>Yorkdale-Glen Park (31)</td>\n",
              "      <td>Yorkdale-Glen Park (31)</td>\n",
              "      <td>None</td>\n",
              "      <td>None</td>\n",
              "      <td>-79.457108</td>\n",
              "      <td>43.714672</td>\n",
              "      <td>16491569</td>\n",
              "      <td>1.156669e+07</td>\n",
              "      <td>13953.408098</td>\n",
              "      <td>POLYGON ((-79.43969 43.70561, -79.44011 43.705...</td>\n",
              "    </tr>\n",
              "  </tbody>\n",
              "</table>\n",
              "</div>"
            ],
            "text/plain": [
              "    _id  ...                                           geometry\n",
              "0  6581  ...  POLYGON ((-79.43592 43.68015, -79.43492 43.680...\n",
              "1  6582  ...  POLYGON ((-79.41096 43.70408, -79.40962 43.704...\n",
              "2  6583  ...  POLYGON ((-79.39119 43.68108, -79.39141 43.680...\n",
              "3  6584  ...  POLYGON ((-79.50529 43.75987, -79.50488 43.759...\n",
              "4  6585  ...  POLYGON ((-79.43969 43.70561, -79.44011 43.705...\n",
              "\n",
              "[5 rows x 16 columns]"
            ]
          },
          "metadata": {
            "tags": []
          },
          "execution_count": 101
        }
      ]
    },
    {
      "cell_type": "code",
      "metadata": {
        "id": "bUmLMS9NLyBa",
        "colab_type": "code",
        "colab": {
          "base_uri": "https://localhost:8080/",
          "height": 36
        },
        "outputId": "96dbdf25-0336-4e42-8561-86d21e0a5bb5"
      },
      "source": [
        "# Determining the centre for the map\n",
        "address = 'Toronto,ON, Canada'\n",
        "\n",
        "geolocator = Nominatim(user_agent=\"Toronto_map\")\n",
        "location = geolocator.geocode(address)\n",
        "latitude = location.latitude\n",
        "longitude = location.longitude\n",
        "print('The geograpical coordinate of {} are {}, {}.'.format(address, latitude, longitude))"
      ],
      "execution_count": 51,
      "outputs": [
        {
          "output_type": "stream",
          "text": [
            "The geograpical coordinate of Toronto,ON, Canada are 43.6534817, -79.3839347.\n"
          ],
          "name": "stdout"
        }
      ]
    },
    {
      "cell_type": "code",
      "metadata": {
        "id": "NR_PNKPwODrj",
        "colab_type": "code",
        "colab": {
          "base_uri": "https://localhost:8080/",
          "height": 863
        },
        "outputId": "44fabbed-3b0d-4101-b581-4187b71e0a23"
      },
      "source": [
        "# create map of Toronto using latitude and longitude values created above\n",
        "map_Toronto = folium.Map(location=[latitude, longitude], zoom_start=11,width='80%',height='80%', min_zoom=10,max_bounds= True, min_lat=43.5,max_lat=44,min_lon=-79.8,max_lon=-78.9)\n",
        "\n",
        "map_Toronto\n"
      ],
      "execution_count": 108,
      "outputs": [
        {
          "output_type": "execute_result",
          "data": {
            "text/html": [
              "<div style=\"width:100%;\"><div style=\"position:relative;width:100%;height:0;padding-bottom:60%;\"><span style=\"color:#565656\">Make this Notebook Trusted to load map: File -> Trust Notebook</span><iframe src=\"about:blank\" style=\"position:absolute;width:100%;height:100%;left:0;top:0;border:none !important;\" data-html=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 onload=\"this.contentDocument.open();this.contentDocument.write(atob(this.getAttribute('data-html')));this.contentDocument.close();\" allowfullscreen webkitallowfullscreen mozallowfullscreen></iframe></div></div>"
            ],
            "text/plain": [
              "<folium.folium.Map at 0x7f7d625892e8>"
            ]
          },
          "metadata": {
            "tags": []
          },
          "execution_count": 108
        }
      ]
    },
    {
      "cell_type": "code",
      "metadata": {
        "id": "hTJzSYFaQHKk",
        "colab_type": "code",
        "colab": {
          "base_uri": "https://localhost:8080/",
          "height": 206
        },
        "outputId": "52262aee-f824-452e-8d70-3586f50f264c"
      },
      "source": [
        "Toronto_df = Toronto_Geojson[['AREA_SHORT_CODE','AREA_NAME','LONGITUDE','LATITUDE']]\n",
        "#rename columns for convenience \n",
        "Toronto_df = Toronto_df.rename(columns={'AREA_SHORT_CODE': 'Code', 'AREA_NAME': 'Neighborhood', 'LONGITUDE': 'Longitude', 'LATITUDE': 'Latitude'})\n",
        "Toronto_df['Neighborhood'] = Toronto_df['Neighborhood'].str.partition('(')\n",
        "Toronto_df.head()"
      ],
      "execution_count": 104,
      "outputs": [
        {
          "output_type": "execute_result",
          "data": {
            "text/html": [
              "<div>\n",
              "<style scoped>\n",
              "    .dataframe tbody tr th:only-of-type {\n",
              "        vertical-align: middle;\n",
              "    }\n",
              "\n",
              "    .dataframe tbody tr th {\n",
              "        vertical-align: top;\n",
              "    }\n",
              "\n",
              "    .dataframe thead th {\n",
              "        text-align: right;\n",
              "    }\n",
              "</style>\n",
              "<table border=\"1\" class=\"dataframe\">\n",
              "  <thead>\n",
              "    <tr style=\"text-align: right;\">\n",
              "      <th></th>\n",
              "      <th>Code</th>\n",
              "      <th>Neighborhood</th>\n",
              "      <th>Longitude</th>\n",
              "      <th>Latitude</th>\n",
              "    </tr>\n",
              "  </thead>\n",
              "  <tbody>\n",
              "    <tr>\n",
              "      <th>0</th>\n",
              "      <td>94</td>\n",
              "      <td>Wychwood</td>\n",
              "      <td>-79.425515</td>\n",
              "      <td>43.676919</td>\n",
              "    </tr>\n",
              "    <tr>\n",
              "      <th>1</th>\n",
              "      <td>100</td>\n",
              "      <td>Yonge-Eglinton</td>\n",
              "      <td>-79.403590</td>\n",
              "      <td>43.704689</td>\n",
              "    </tr>\n",
              "    <tr>\n",
              "      <th>2</th>\n",
              "      <td>97</td>\n",
              "      <td>Yonge-St.Clair</td>\n",
              "      <td>-79.397871</td>\n",
              "      <td>43.687859</td>\n",
              "    </tr>\n",
              "    <tr>\n",
              "      <th>3</th>\n",
              "      <td>27</td>\n",
              "      <td>York University Heights</td>\n",
              "      <td>-79.488883</td>\n",
              "      <td>43.765736</td>\n",
              "    </tr>\n",
              "    <tr>\n",
              "      <th>4</th>\n",
              "      <td>31</td>\n",
              "      <td>Yorkdale-Glen Park</td>\n",
              "      <td>-79.457108</td>\n",
              "      <td>43.714672</td>\n",
              "    </tr>\n",
              "  </tbody>\n",
              "</table>\n",
              "</div>"
            ],
            "text/plain": [
              "   Code              Neighborhood  Longitude   Latitude\n",
              "0    94                 Wychwood  -79.425515  43.676919\n",
              "1   100           Yonge-Eglinton  -79.403590  43.704689\n",
              "2    97           Yonge-St.Clair  -79.397871  43.687859\n",
              "3    27  York University Heights  -79.488883  43.765736\n",
              "4    31       Yorkdale-Glen Park  -79.457108  43.714672"
            ]
          },
          "metadata": {
            "tags": []
          },
          "execution_count": 104
        }
      ]
    },
    {
      "cell_type": "code",
      "metadata": {
        "id": "U8umSbSIYrdY",
        "colab_type": "code",
        "colab": {
          "base_uri": "https://localhost:8080/",
          "height": 229
        },
        "outputId": "de384ad6-f4c6-4ec8-ec69-f2790e2279ea"
      },
      "source": [
        "# add markers to map\n",
        "for lat, lng, neighborhood in zip(Toronto_df['Latitude'], Toronto_df['Longitude'], Toronto_df['Neighborhood']):\n",
        "    label = '{}'.format(neighborhood)\n",
        "    label = folium.Popup(label, parse_html=True)\n",
        "    folium.CircleMarker(\n",
        "        [lat, lng],\n",
        "        radius=5,\n",
        "        popup=label,\n",
        "        color='blue',\n",
        "        fill=True,\n",
        "        fill_color='#3186cc',\n",
        "        fill_opacity=0.7,\n",
        "        parse_html=False).add_to(map_Toronto)\n",
        "\n",
        "# Creating choropleth map\n",
        "folium.Choropleth(geo_data=Toronto_Geojson,\n",
        "                       name='Choropleth',\n",
        "                       data=Toronto_df,\n",
        "                       columns=['Code','Longitude'],\n",
        "                       key_on='feature.id',\n",
        "                       fill_color='YlOrRd',\n",
        "                       fill_opacity=0.6,\n",
        "                       line_opacity=0.8,\n",
        "                       legend_name='Over all average taxable income of suburb',\n",
        "                       smooth_factor=0,\n",
        "                       highlight=True\n",
        "                       )\n",
        "\n",
        "folium.LayerControl()"
      ],
      "execution_count": 116,
      "outputs": [
        {
          "output_type": "error",
          "ename": "AttributeError",
          "evalue": "ignored",
          "traceback": [
            "\u001b[0;31m---------------------------------------------------------------------------\u001b[0m",
            "\u001b[0;31mAttributeError\u001b[0m                            Traceback (most recent call last)",
            "\u001b[0;32m<ipython-input-116-d2ff8b529a2c>\u001b[0m in \u001b[0;36m<module>\u001b[0;34m()\u001b[0m\n\u001b[1;32m     27\u001b[0m                        )\n\u001b[1;32m     28\u001b[0m \u001b[0;34m\u001b[0m\u001b[0m\n\u001b[0;32m---> 29\u001b[0;31m \u001b[0mfolium\u001b[0m\u001b[0;34m.\u001b[0m\u001b[0madd_to\u001b[0m\u001b[0;34m(\u001b[0m\u001b[0mmap_Toronto\u001b[0m\u001b[0;34m)\u001b[0m\u001b[0;34m\u001b[0m\u001b[0;34m\u001b[0m\u001b[0m\n\u001b[0m\u001b[1;32m     30\u001b[0m \u001b[0mmap_Toronto\u001b[0m\u001b[0;34m\u001b[0m\u001b[0;34m\u001b[0m\u001b[0m\n",
            "\u001b[0;31mAttributeError\u001b[0m: module 'folium' has no attribute 'add_to'"
          ]
        }
      ]
    },
    {
      "cell_type": "code",
      "metadata": {
        "id": "YlGaLrCUZBtt",
        "colab_type": "code",
        "colab": {}
      },
      "source": [
        ""
      ],
      "execution_count": null,
      "outputs": []
    },
    {
      "cell_type": "code",
      "metadata": {
        "id": "GKjovk2wp8G7",
        "colab_type": "code",
        "colab": {}
      },
      "source": [
        ""
      ],
      "execution_count": null,
      "outputs": []
    }
  ]
}